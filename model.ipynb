{
  "nbformat": 4,
  "nbformat_minor": 0,
  "metadata": {
    "colab": {
      "name": "model.ipynb",
      "provenance": [],
      "collapsed_sections": [],
      "mount_file_id": "1sTEdurpWREwnkjrad-P8Nznol7JbxXfD",
      "authorship_tag": "ABX9TyMeR2hfxt04YikeELVkq0j0"
    },
    "kernelspec": {
      "name": "python3",
      "display_name": "Python 3"
    }
  },
  "cells": [
    {
      "cell_type": "code",
      "metadata": {
        "id": "JTLXWvEX2n0Y"
      },
      "source": [
        "# !pip install --upgrade jsonpickle tweepy"
      ],
      "execution_count": null,
      "outputs": []
    },
    {
      "cell_type": "code",
      "metadata": {
        "id": "0hJb4m5O7V0y",
        "outputId": "487b2bc8-3397-40db-c628-1bcf47610e82",
        "colab": {
          "base_uri": "https://localhost:8080/",
          "height": 35
        }
      },
      "source": [
        "import os\n",
        "os.chdir('drive/My Drive/twitter-bot-detection')\n",
        "os.getcwd()"
      ],
      "execution_count": null,
      "outputs": [
        {
          "output_type": "execute_result",
          "data": {
            "application/vnd.google.colaboratory.intrinsic+json": {
              "type": "string"
            },
            "text/plain": [
              "'/content/drive/My Drive/twitter-bot-detection'"
            ]
          },
          "metadata": {
            "tags": []
          },
          "execution_count": 6
        }
      ]
    },
    {
      "cell_type": "code",
      "metadata": {
        "id": "WQSCCljYq6X2"
      },
      "source": [
        "import sys\n",
        "import jsonpickle\n",
        "import numpy as np\n",
        "import pandas as pd\n",
        "import sklearn\n",
        "from sklearn import preprocessing\n",
        "from sklearn.preprocessing import PolynomialFeatures,MinMaxScaler\n",
        "from sklearn.metrics import r2_score\n",
        "from sklearn.metrics import accuracy_score\n",
        "from sklearn.linear_model import LogisticRegression\n",
        "from sklearn.linear_model import LogisticRegressionCV\n",
        "from sklearn.pipeline import make_pipeline\n",
        "from sklearn.preprocessing import PolynomialFeatures\n",
        "from sklearn.model_selection import train_test_split\n",
        "from pandas.plotting import scatter_matrix\n",
        "from sklearn.discriminant_analysis import LinearDiscriminantAnalysis\n",
        "from sklearn.discriminant_analysis import QuadraticDiscriminantAnalysis\n",
        "from sklearn.ensemble import AdaBoostClassifier\n",
        "from sklearn.tree import DecisionTreeClassifier\n",
        "from sklearn.ensemble import RandomForestClassifier\n",
        "from sklearn.model_selection import train_test_split\n",
        "from sklearn.metrics import classification_report,confusion_matrix\n",
        "from sklearn.model_selection import GridSearchCV\n",
        "from sklearn.ensemble import GradientBoostingClassifier\n",
        "import xgboost as xgb\n",
        "from sklearn.metrics import confusion_matrix\n",
        "from sklearn.neighbors import KNeighborsClassifier\n",
        "from sklearn.model_selection import cross_val_score\n",
        "from sklearn.model_selection import KFold\n",
        "from sklearn.svm import SVC\n",
        "\n",
        "from sklearn import svm\n",
        "import seaborn as sns\n",
        "import matplotlib.pyplot as plt\n",
        "import matplotlib\n",
        "%matplotlib inline\n",
        "\n",
        "import warnings\n",
        "warnings.filterwarnings('ignore')"
      ],
      "execution_count": null,
      "outputs": []
    },
    {
      "cell_type": "code",
      "metadata": {
        "id": "XbOFvwIT6sA3"
      },
      "source": [
        "bot_df = pd.read_csv(r\"data/final_bots.csv\",index_col='User ID')\n",
        "user_df = pd.read_csv(r\"data/final_users.csv\",index_col='User ID')"
      ],
      "execution_count": null,
      "outputs": []
    },
    {
      "cell_type": "code",
      "metadata": {
        "id": "wTqs74VY7PhP"
      },
      "source": [
        "bot_df['bot']=1\n",
        "user_df['bot']=0\n",
        "total_df = bot_df.append(user_df)"
      ],
      "execution_count": null,
      "outputs": []
    },
    {
      "cell_type": "code",
      "metadata": {
        "id": "OwRd7_OR7fHg"
      },
      "source": [
        "train_data, test_data = train_test_split(total_df, test_size = 0.2, random_state=87)\n",
        "\n",
        "Y_train=train_data['bot']\n",
        "Y_test=test_data['bot']\n",
        "X_train=train_data.drop('bot',axis=1)\n",
        "X_test=test_data.drop('bot',axis=1)\n",
        "X_train = X_train.drop(['Account age (days)'], axis=1)\n",
        "X_test = X_test.drop(['Account age (days)'], axis=1)"
      ],
      "execution_count": null,
      "outputs": []
    },
    {
      "cell_type": "code",
      "metadata": {
        "id": "nZIuWJob7w0n",
        "outputId": "c6233fab-88a9-48bd-c267-652a4ff1c04f",
        "colab": {
          "base_uri": "https://localhost:8080/"
        }
      },
      "source": [
        "print(np.count_nonzero(Y_test)/len(Y_test))\n",
        "print(np.count_nonzero(Y_train)/len(Y_train))"
      ],
      "execution_count": null,
      "outputs": [
        {
          "output_type": "stream",
          "text": [
            "0.45491643995336184\n",
            "0.45430251202565475\n"
          ],
          "name": "stdout"
        }
      ]
    },
    {
      "cell_type": "code",
      "metadata": {
        "id": "RdyKxx5g7_cy"
      },
      "source": [
        "# def normalize(df,df_train):\n",
        "#     result = df.copy()\n",
        "#     for feature_name in df_train.columns:\n",
        "#         max_value = df_train[feature_name].max()\n",
        "#         min_value = df_train[feature_name].min()\n",
        "#         result[feature_name] = (df[feature_name] - min_value) / (max_value - min_value)\n",
        "#     return result\n",
        "\n",
        "# X_train_scaled=normalize(X_train,X_train)\n",
        "# X_test_scaled=normalize(X_test,X_train)\n",
        "# X_train_scaled.describe()"
      ],
      "execution_count": null,
      "outputs": []
    },
    {
      "cell_type": "code",
      "metadata": {
        "id": "0NvYc4qssGh-",
        "outputId": "995e8901-2fbe-4cce-b6ae-033640c78a11",
        "colab": {
          "base_uri": "https://localhost:8080/"
        }
      },
      "source": [
        "scaler = MinMaxScaler()\n",
        "scaler.fit(X_train)"
      ],
      "execution_count": null,
      "outputs": [
        {
          "output_type": "execute_result",
          "data": {
            "text/plain": [
              "MinMaxScaler(copy=True, feature_range=(0, 1))"
            ]
          },
          "metadata": {
            "tags": []
          },
          "execution_count": 13
        }
      ]
    },
    {
      "cell_type": "code",
      "metadata": {
        "id": "TID0F_Z08N9V"
      },
      "source": [
        "X_train_scaled=scaler.transform(X_train)\n",
        "X_train_scaled = pd.DataFrame(X_train_scaled,columns=X_train.columns)\n",
        "X_test_scaled=scaler.transform(X_test)\n",
        "X_test_scaled = pd.DataFrame(X_test_scaled,columns=X_train.columns)"
      ],
      "execution_count": null,
      "outputs": []
    },
    {
      "cell_type": "code",
      "metadata": {
        "id": "GLrg3VEbvG1Y",
        "outputId": "a61adfa1-222a-4cb6-8e60-48e9338fe63e",
        "colab": {
          "base_uri": "https://localhost:8080/",
          "height": 365
        }
      },
      "source": [
        "X_train_scaled.describe()"
      ],
      "execution_count": null,
      "outputs": [
        {
          "output_type": "execute_result",
          "data": {
            "text/html": [
              "<div>\n",
              "<style scoped>\n",
              "    .dataframe tbody tr th:only-of-type {\n",
              "        vertical-align: middle;\n",
              "    }\n",
              "\n",
              "    .dataframe tbody tr th {\n",
              "        vertical-align: top;\n",
              "    }\n",
              "\n",
              "    .dataframe thead th {\n",
              "        text-align: right;\n",
              "    }\n",
              "</style>\n",
              "<table border=\"1\" class=\"dataframe\">\n",
              "  <thead>\n",
              "    <tr style=\"text-align: right;\">\n",
              "      <th></th>\n",
              "      <th>Screen name length</th>\n",
              "      <th>Number of digits in screen name</th>\n",
              "      <th>User name length</th>\n",
              "      <th>Default profile (binary)</th>\n",
              "      <th>Default picture (binary)</th>\n",
              "      <th>Number of unique profile descriptions</th>\n",
              "      <th>Number of friends</th>\n",
              "      <th>Number of followers</th>\n",
              "      <th>Number of favorites</th>\n",
              "      <th>Number of tweets per hour</th>\n",
              "      <th>Number of tweets total</th>\n",
              "      <th>timing_tweet</th>\n",
              "    </tr>\n",
              "  </thead>\n",
              "  <tbody>\n",
              "    <tr>\n",
              "      <th>count</th>\n",
              "      <td>20581.000000</td>\n",
              "      <td>20581.000000</td>\n",
              "      <td>20581.000000</td>\n",
              "      <td>20581.000000</td>\n",
              "      <td>20581.000000</td>\n",
              "      <td>20581.000000</td>\n",
              "      <td>20581.000000</td>\n",
              "      <td>20581.000000</td>\n",
              "      <td>20581.000000</td>\n",
              "      <td>20581.000000</td>\n",
              "      <td>20581.000000</td>\n",
              "      <td>20581.000000</td>\n",
              "    </tr>\n",
              "    <tr>\n",
              "      <th>mean</th>\n",
              "      <td>0.680138</td>\n",
              "      <td>0.026441</td>\n",
              "      <td>0.221217</td>\n",
              "      <td>0.128711</td>\n",
              "      <td>0.026627</td>\n",
              "      <td>0.047619</td>\n",
              "      <td>0.000891</td>\n",
              "      <td>0.000184</td>\n",
              "      <td>0.004234</td>\n",
              "      <td>0.008021</td>\n",
              "      <td>0.007801</td>\n",
              "      <td>0.717822</td>\n",
              "    </tr>\n",
              "    <tr>\n",
              "      <th>std</th>\n",
              "      <td>0.207034</td>\n",
              "      <td>0.078484</td>\n",
              "      <td>0.104966</td>\n",
              "      <td>0.334888</td>\n",
              "      <td>0.160993</td>\n",
              "      <td>0.091744</td>\n",
              "      <td>0.008337</td>\n",
              "      <td>0.007207</td>\n",
              "      <td>0.019174</td>\n",
              "      <td>0.022343</td>\n",
              "      <td>0.022043</td>\n",
              "      <td>0.178786</td>\n",
              "    </tr>\n",
              "    <tr>\n",
              "      <th>min</th>\n",
              "      <td>0.000000</td>\n",
              "      <td>0.000000</td>\n",
              "      <td>0.000000</td>\n",
              "      <td>0.000000</td>\n",
              "      <td>0.000000</td>\n",
              "      <td>0.000000</td>\n",
              "      <td>0.000000</td>\n",
              "      <td>0.000000</td>\n",
              "      <td>0.000000</td>\n",
              "      <td>0.000000</td>\n",
              "      <td>0.000000</td>\n",
              "      <td>0.000000</td>\n",
              "    </tr>\n",
              "    <tr>\n",
              "      <th>25%</th>\n",
              "      <td>0.538462</td>\n",
              "      <td>0.000000</td>\n",
              "      <td>0.163265</td>\n",
              "      <td>0.000000</td>\n",
              "      <td>0.000000</td>\n",
              "      <td>0.000000</td>\n",
              "      <td>0.000059</td>\n",
              "      <td>0.000002</td>\n",
              "      <td>0.000000</td>\n",
              "      <td>0.000162</td>\n",
              "      <td>0.000152</td>\n",
              "      <td>0.588563</td>\n",
              "    </tr>\n",
              "    <tr>\n",
              "      <th>50%</th>\n",
              "      <td>0.692308</td>\n",
              "      <td>0.000000</td>\n",
              "      <td>0.224490</td>\n",
              "      <td>0.000000</td>\n",
              "      <td>0.000000</td>\n",
              "      <td>0.000000</td>\n",
              "      <td>0.000173</td>\n",
              "      <td>0.000007</td>\n",
              "      <td>0.000030</td>\n",
              "      <td>0.001813</td>\n",
              "      <td>0.001737</td>\n",
              "      <td>0.733345</td>\n",
              "    </tr>\n",
              "    <tr>\n",
              "      <th>75%</th>\n",
              "      <td>0.846154</td>\n",
              "      <td>0.000000</td>\n",
              "      <td>0.285714</td>\n",
              "      <td>0.000000</td>\n",
              "      <td>0.000000</td>\n",
              "      <td>0.055556</td>\n",
              "      <td>0.000526</td>\n",
              "      <td>0.000026</td>\n",
              "      <td>0.001232</td>\n",
              "      <td>0.007701</td>\n",
              "      <td>0.007168</td>\n",
              "      <td>0.869844</td>\n",
              "    </tr>\n",
              "    <tr>\n",
              "      <th>max</th>\n",
              "      <td>1.000000</td>\n",
              "      <td>1.000000</td>\n",
              "      <td>1.000000</td>\n",
              "      <td>1.000000</td>\n",
              "      <td>1.000000</td>\n",
              "      <td>1.000000</td>\n",
              "      <td>1.000000</td>\n",
              "      <td>1.000000</td>\n",
              "      <td>1.000000</td>\n",
              "      <td>1.000000</td>\n",
              "      <td>1.000000</td>\n",
              "      <td>1.000000</td>\n",
              "    </tr>\n",
              "  </tbody>\n",
              "</table>\n",
              "</div>"
            ],
            "text/plain": [
              "       Screen name length  ...  timing_tweet\n",
              "count        20581.000000  ...  20581.000000\n",
              "mean             0.680138  ...      0.717822\n",
              "std              0.207034  ...      0.178786\n",
              "min              0.000000  ...      0.000000\n",
              "25%              0.538462  ...      0.588563\n",
              "50%              0.692308  ...      0.733345\n",
              "75%              0.846154  ...      0.869844\n",
              "max              1.000000  ...      1.000000\n",
              "\n",
              "[8 rows x 12 columns]"
            ]
          },
          "metadata": {
            "tags": []
          },
          "execution_count": 169
        }
      ]
    },
    {
      "cell_type": "code",
      "metadata": {
        "id": "ZD-GK8p_8g5Z",
        "outputId": "1ef9a42a-fa42-4ca0-a4ff-e3b624e08423",
        "colab": {
          "base_uri": "https://localhost:8080/"
        }
      },
      "source": [
        "# Logistic Regression\n",
        "logreg = LogisticRegression(C=100000,fit_intercept=True).fit(X_train_scaled,Y_train)\n",
        "logreg_train = logreg.score(X_train_scaled, Y_train)\n",
        "\n",
        "print('Accuracy of logistic regression model on training set is {:.3f}'.format(logreg_train))\n",
        "# Classification error on test set\n",
        "lr_pred = logreg.predict(X_test_scaled)\n",
        "logreg_test = logreg.score(X_test_scaled, Y_test)\n",
        "print('Accuracy of logistic regression model on the test set is {:.3f}'.format(logreg_test))"
      ],
      "execution_count": null,
      "outputs": [
        {
          "output_type": "stream",
          "text": [
            "Accuracy of logistic regression model on training set is 0.765\n",
            "Accuracy of logistic regression model on the test set is 0.751\n"
          ],
          "name": "stdout"
        }
      ]
    },
    {
      "cell_type": "code",
      "metadata": {
        "id": "90RiNVQ5ahQb",
        "outputId": "e4783ec5-da82-43f8-87b3-3e60efe7d512",
        "colab": {
          "base_uri": "https://localhost:8080/",
          "height": 283
        }
      },
      "source": [
        "cf_matrix = confusion_matrix(lr_pred,Y_test)\n",
        "sns.heatmap(cf_matrix/np.sum(cf_matrix), annot=True, \n",
        "            fmt='.2%', cmap='Blues')"
      ],
      "execution_count": null,
      "outputs": [
        {
          "output_type": "execute_result",
          "data": {
            "text/plain": [
              "<matplotlib.axes._subplots.AxesSubplot at 0x7f9ce5e1b5c0>"
            ]
          },
          "metadata": {
            "tags": []
          },
          "execution_count": 163
        },
        {
          "output_type": "display_data",
          "data": {
            "image/png": "[encoded data removed]",
            "text/plain": [
              "<Figure size 432x288 with 2 Axes>"
            ]
          },
          "metadata": {
            "tags": [],
            "needs_background": "light"
          }
        }
      ]
    },
    {
      "cell_type": "code",
      "metadata": {
        "id": "dEmXBPcM80O5",
        "outputId": "99bfb5a3-27e0-4bb2-ece1-a5b62d0924e2",
        "colab": {
          "base_uri": "https://localhost:8080/"
        }
      },
      "source": [
        "# Logistic regression w/ quadratic + interaction terms + regularization\n",
        "polynomial_logreg_estimator = make_pipeline(\n",
        "    PolynomialFeatures(degree=2, include_bias=True),\n",
        "    LogisticRegressionCV(multi_class=\"ovr\", penalty='l2', cv=5, max_iter=10000))\n",
        "linearLogCVpoly = polynomial_logreg_estimator.fit(X_train_scaled, Y_train)\n",
        "# Compare results\n",
        "print('Polynomial-logistic accuracy: train={:.1%}, test={:.1%}'.format(\n",
        "    linearLogCVpoly.score(X_train_scaled, Y_train), linearLogCVpoly.score(X_test_scaled, Y_test)))\n",
        "linearLogCVpoly_train = linearLogCVpoly.score(X_train_scaled, Y_train)\n",
        "linearLogCVpoly_test = linearLogCVpoly.score(X_test_scaled, Y_test)"
      ],
      "execution_count": null,
      "outputs": [
        {
          "output_type": "stream",
          "text": [
            "Polynomial-logistic accuracy: train=78.3%, test=77.0%\n"
          ],
          "name": "stdout"
        }
      ]
    },
    {
      "cell_type": "code",
      "metadata": {
        "id": "lT5IFTEr-UB9",
        "outputId": "537d1068-ddf7-4a63-9bc8-079ccbab0b5b",
        "colab": {
          "base_uri": "https://localhost:8080/"
        }
      },
      "source": [
        "# LDA and QDA Model\n",
        "lda = LinearDiscriminantAnalysis(store_covariance=True)\n",
        "qda = QuadraticDiscriminantAnalysis(store_covariance=True)\n",
        "lda.fit(X_train_scaled, Y_train)\n",
        "qda.fit(X_train_scaled, Y_train)\n",
        "lda.predict(X_test_scaled)\n",
        "qda.predict(X_test_scaled)\n",
        "\n",
        "print('LDA accuracy train={:.1%}, test: {:.1%}'.format(\n",
        "    lda.score(X_train_scaled, Y_train), lda.score(X_test_scaled, Y_test)))\n",
        "\n",
        "lda_train = lda.score(X_train_scaled, Y_train)\n",
        "lda_test = lda.score(X_test_scaled, Y_test)\n",
        "\n",
        "print('QDA accuracy train={:.1%}, test: {:.1%}'.format(\n",
        "    qda.score(X_train_scaled, Y_train), qda.score(X_test_scaled, Y_test)))\n",
        "\n",
        "qda_train = qda.score(X_train_scaled, Y_train)\n",
        "qda_test = qda.score(X_test_scaled, Y_test)"
      ],
      "execution_count": null,
      "outputs": [
        {
          "output_type": "stream",
          "text": [
            "LDA accuracy train=67.1%, test: 66.0%\n",
            "QDA accuracy train=70.2%, test: 69.2%\n"
          ],
          "name": "stdout"
        }
      ]
    },
    {
      "cell_type": "code",
      "metadata": {
        "id": "ircBJLl0-lT4",
        "outputId": "64e00846-4507-404f-e1d2-6ff27de5feb5",
        "colab": {
          "base_uri": "https://localhost:8080/"
        }
      },
      "source": [
        "# Random Forest\n",
        "ntrees = 50\n",
        "rf = RandomForestClassifier(n_estimators=ntrees , max_depth=15, max_features='auto')\n",
        "rf.fit(X_train_scaled, Y_train)\n",
        "rf_train =rf.score(X_train_scaled, Y_train)\n",
        "rf_test =rf.score(X_test_scaled, Y_test)\n",
        "\n",
        "print('RF accuracy train={:.1%}, test: {:.1%}'.format(rf_train,rf_test))"
      ],
      "execution_count": null,
      "outputs": [
        {
          "output_type": "stream",
          "text": [
            "RF accuracy train=97.8%, test: 89.3%\n"
          ],
          "name": "stdout"
        }
      ]
    },
    {
      "cell_type": "code",
      "metadata": {
        "id": "yYgvjC-H-2ql",
        "outputId": "1b3f60bd-4bce-4b93-e68e-e157a923ba04",
        "colab": {
          "base_uri": "https://localhost:8080/",
          "height": 368
        }
      },
      "source": [
        "plt.figure(figsize=(5,5))\n",
        "plt.title('Variable Importance from Random Forest')\n",
        "plt.xlabel('Relative Importance')\n",
        "pd.Series(rf.feature_importances_,index=list(X_train_scaled)).sort_values().plot(kind=\"barh\")"
      ],
      "execution_count": null,
      "outputs": [
        {
          "output_type": "execute_result",
          "data": {
            "text/plain": [
              "<matplotlib.axes._subplots.AxesSubplot at 0x7f9ce61e1940>"
            ]
          },
          "metadata": {
            "tags": []
          },
          "execution_count": 93
        },
        {
          "output_type": "display_data",
          "data": {
            "image/png": "[encoded data removed]",
            "text/plain": [
              "<Figure size 360x360 with 1 Axes>"
            ]
          },
          "metadata": {
            "tags": [],
            "needs_background": "light"
          }
        }
      ]
    },
    {
      "cell_type": "code",
      "metadata": {
        "id": "fcdV7gYJfmgi",
        "outputId": "9700aef5-5317-4a13-895e-b70822abb257",
        "colab": {
          "base_uri": "https://localhost:8080/",
          "height": 287
        }
      },
      "source": [
        "rf_pred = rf.predict(X_test_scaled)\n",
        "cf_matrix = confusion_matrix(rf_pred,Y_test)\n",
        "sns.heatmap(cf_matrix/np.sum(cf_matrix), annot=True, \n",
        "            fmt='.2%', cmap='Blues')"
      ],
      "execution_count": null,
      "outputs": [
        {
          "output_type": "execute_result",
          "data": {
            "text/plain": [
              "<matplotlib.axes._subplots.AxesSubplot at 0x7f9ce5ec86d8>"
            ]
          },
          "metadata": {
            "tags": []
          },
          "execution_count": 121
        },
        {
          "output_type": "display_data",
          "data": {
            "image/png": "[encoded data removed]",
            "text/plain": [
              "<Figure size 432x288 with 2 Axes>"
            ]
          },
          "metadata": {
            "tags": [],
            "needs_background": "light"
          }
        }
      ]
    },
    {
      "cell_type": "code",
      "metadata": {
        "id": "Z9RtgdJmAVh8"
      },
      "source": [
        "# svm\n",
        "def fit_and_plot_svm_for_c(x_train, y_train, x_test, y_test, C):\n",
        "    # Fit SVM model\n",
        "    model = svm.SVC(C=C, kernel='linear')\n",
        "    model.fit(x_train, y_train)\n",
        "    \n",
        "    # Train and test error\n",
        "    tr_acc = model.score(x_train, y_train)\n",
        "    ts_acc = model.score(x_test, y_test)\n",
        "    return tr_acc, ts_acc"
      ],
      "execution_count": null,
      "outputs": []
    },
    {
      "cell_type": "code",
      "metadata": {
        "id": "4Arw8ZfvAcXl"
      },
      "source": [
        "# Fit and plot for different 'C' values\n",
        "tr_acc, ts_acc = fit_and_plot_svm_for_c(X_train_scaled, Y_train,X_test_scaled, Y_test, 0.1)"
      ],
      "execution_count": null,
      "outputs": []
    },
    {
      "cell_type": "code",
      "metadata": {
        "id": "wDA9K4S4Av3t",
        "outputId": "4f4e969a-5c57-4145-a3a0-63860f6a63ed",
        "colab": {
          "base_uri": "https://localhost:8080/"
        }
      },
      "source": [
        "print(tr_acc, ts_acc)"
      ],
      "execution_count": null,
      "outputs": [
        {
          "output_type": "stream",
          "text": [
            "0.6387444730576746 0.6319471434123591\n"
          ],
          "name": "stdout"
        }
      ]
    },
    {
      "cell_type": "code",
      "metadata": {
        "id": "7-a6UqfmBJcd"
      },
      "source": [
        "# KNN\n",
        "from sklearn.neighbors import KNeighborsClassifier\n",
        "from sklearn.model_selection import cross_val_score\n",
        "from sklearn.model_selection import KFold\n",
        "\n",
        "scores_mean=[]\n",
        "scores_std=[]\n",
        "\n",
        "k_number=np.arange(1,40)\n",
        "\n",
        "for k in range(1,40):\n",
        "    knn = KNeighborsClassifier(n_neighbors = k)\n",
        "    score_mean= cross_val_score(knn,X_train_scaled,Y_train,cv=5).mean()\n",
        "    score_std=cross_val_score(knn,X_train_scaled,Y_train,cv=5).std()\n",
        "    scores_mean.append(score_mean)"
      ],
      "execution_count": null,
      "outputs": []
    },
    {
      "cell_type": "code",
      "metadata": {
        "id": "cNn4UCjzBPDX",
        "outputId": "8595a60c-fbc2-4068-a044-d8bb708ef33e",
        "colab": {
          "base_uri": "https://localhost:8080/"
        }
      },
      "source": [
        "max_score_k=max(scores_mean)\n",
        "best_k=scores_mean.index(max(scores_mean))+1\n",
        "print('Best K=',best_k, 'with a max CV score of',max_score_k)\n",
        "\n",
        "knn_best_k = KNeighborsClassifier(n_neighbors = best_k)\n",
        "knn_best_k.fit(X_train_scaled,Y_train);\n",
        "\n",
        "pred_best_k = knn_best_k.predict(X_test_scaled)\n",
        "\n",
        "print('test accuracy',accuracy_score(Y_test, pred_best_k))\n",
        "\n",
        "knn_best_k_train = knn_best_k.score(X_train_scaled, Y_train)\n",
        "knn_best_k_test = knn_best_k.score(X_test_scaled, Y_test)"
      ],
      "execution_count": null,
      "outputs": [
        {
          "output_type": "stream",
          "text": [
            "Best K= 34 with a max CV score of 0.6800929469952387\n",
            "test accuracy 0.6706179556937427\n"
          ],
          "name": "stdout"
        }
      ]
    },
    {
      "cell_type": "code",
      "metadata": {
        "id": "MTRVopMZBTXY"
      },
      "source": [
        "# adaBoost\n",
        "adaboost = AdaBoostClassifier(base_estimator=DecisionTreeClassifier(max_depth=5), n_estimators=800, learning_rate=0.01)\n",
        "adaboost.fit(X_train_scaled, Y_train);"
      ],
      "execution_count": null,
      "outputs": []
    },
    {
      "cell_type": "code",
      "metadata": {
        "id": "ZA0lV8DfOepD",
        "outputId": "086387c4-a926-4a1d-cf77-174c0bdeaacd",
        "colab": {
          "base_uri": "https://localhost:8080/"
        }
      },
      "source": [
        "y_pred_test = adaboost.predict(X_test_scaled)\n",
        "pred_adaboost = [round(value) for value in y_pred_test]\n",
        "adaboost_accuracy = accuracy_score(Y_test, pred_adaboost)\n",
        "print('test acc:',adaboost_accuracy)"
      ],
      "execution_count": null,
      "outputs": [
        {
          "output_type": "stream",
          "text": [
            "test acc: 0.8907889623008162\n"
          ],
          "name": "stdout"
        }
      ]
    },
    {
      "cell_type": "code",
      "metadata": {
        "id": "M9XEaRExOhu5",
        "outputId": "6b51b56a-3bcc-4df7-8db7-144151e1fb3a",
        "colab": {
          "base_uri": "https://localhost:8080/",
          "height": 368
        }
      },
      "source": [
        "\n",
        "plt.figure(figsize=(5,5))\n",
        "plt.title('Variable Importance from Adaboosting')\n",
        "plt.xlabel('Relative Importance')\n",
        "pd.Series(adaboost.feature_importances_,index=list(X_train_scaled)).sort_values().plot(kind=\"barh\")"
      ],
      "execution_count": null,
      "outputs": [
        {
          "output_type": "execute_result",
          "data": {
            "text/plain": [
              "<matplotlib.axes._subplots.AxesSubplot at 0x7f9ce5f8c7b8>"
            ]
          },
          "metadata": {
            "tags": []
          },
          "execution_count": 103
        },
        {
          "output_type": "display_data",
          "data": {
            "image/png": "[encoded data removed]",
            "text/plain": [
              "<Figure size 360x360 with 1 Axes>"
            ]
          },
          "metadata": {
            "tags": [],
            "needs_background": "light"
          }
        }
      ]
    },
    {
      "cell_type": "code",
      "metadata": {
        "id": "eHBuw-v7OoP2",
        "outputId": "8d877434-51c8-4222-9164-28129fc777e2",
        "colab": {
          "base_uri": "https://localhost:8080/"
        }
      },
      "source": [
        "\n",
        "import xgboost as xgb\n",
        "from sklearn.metrics import confusion_matrix\n",
        "\n",
        "\n",
        "xgb = xgb.XGBClassifier(max_depth=5, n_estimators=300, learning_rate=0.01).fit(X_train_scaled, Y_train)\n",
        "y_pred_test_xgb = xgb.predict(X_test_scaled)\n",
        "accuracy_xgb = accuracy_score(Y_test, y_pred_test_xgb)\n",
        "\n",
        "\n",
        "print(\"test Accuracy: %.2f%%\" % (accuracy_xgb * 100.0))"
      ],
      "execution_count": null,
      "outputs": [
        {
          "output_type": "stream",
          "text": [
            "test Accuracy: 89.35%\n"
          ],
          "name": "stdout"
        }
      ]
    },
    {
      "cell_type": "code",
      "metadata": {
        "id": "Pab5Q2LCOyoj",
        "outputId": "de2d81f1-df8f-46ad-c32d-d98a4b2b6c8a",
        "colab": {
          "base_uri": "https://localhost:8080/",
          "height": 368
        }
      },
      "source": [
        "plt.figure(figsize=(5,5))\n",
        "plt.title('Variable Importance from XGBoost')\n",
        "plt.xlabel('Relative Importance')\n",
        "pd.Series(xgb.feature_importances_,index=list(X_train_scaled)).sort_values().plot(kind=\"barh\")"
      ],
      "execution_count": null,
      "outputs": [
        {
          "output_type": "execute_result",
          "data": {
            "text/plain": [
              "<matplotlib.axes._subplots.AxesSubplot at 0x7f9ce5ed9b70>"
            ]
          },
          "metadata": {
            "tags": []
          },
          "execution_count": 105
        },
        {
          "output_type": "display_data",
          "data": {
            "image/png": "[encoded data removed]",
            "text/plain": [
              "<Figure size 360x360 with 1 Axes>"
            ]
          },
          "metadata": {
            "tags": [],
            "needs_background": "light"
          }
        }
      ]
    },
    {
      "cell_type": "markdown",
      "metadata": {
        "id": "nZhcN6tZR_-C"
      },
      "source": [
        "#Model Comparison"
      ]
    },
    {
      "cell_type": "code",
      "metadata": {
        "id": "hm-STGx2QHk5",
        "outputId": "61c0508c-b3f2-42ce-9595-e94ec7b5216a",
        "colab": {
          "base_uri": "https://localhost:8080/",
          "height": 312
        }
      },
      "source": [
        "dict_var = {\n",
        "            \"test accuracy\": [logreg_test, linearLogCVpoly_test, rf_test, knn_best_k_test ,lda_test,qda_test, adaboost_accuracy, accuracy_xgb],\n",
        "            \"training accuracy\": [logreg_train, linearLogCVpoly_train, rf_train, knn_best_k_train ,lda_train,qda_train, adaboost_accuracy, accuracy_xgb],\n",
        "           }\n",
        "print(\"Performance comparison of the six methods:\")\n",
        "df_var = pd.DataFrame.from_dict(dict_var)\n",
        "df_var.index= ['Linear LR', 'Polynomial LR', 'Random Forest', 'kNN', 'LDA', 'QDA', 'AdaBoost', 'XGBoost']\n",
        "display(df_var)"
      ],
      "execution_count": null,
      "outputs": [
        {
          "output_type": "stream",
          "text": [
            "Performance comparison of the six methods:\n"
          ],
          "name": "stdout"
        },
        {
          "output_type": "display_data",
          "data": {
            "text/html": [
              "<div>\n",
              "<style scoped>\n",
              "    .dataframe tbody tr th:only-of-type {\n",
              "        vertical-align: middle;\n",
              "    }\n",
              "\n",
              "    .dataframe tbody tr th {\n",
              "        vertical-align: top;\n",
              "    }\n",
              "\n",
              "    .dataframe thead th {\n",
              "        text-align: right;\n",
              "    }\n",
              "</style>\n",
              "<table border=\"1\" class=\"dataframe\">\n",
              "  <thead>\n",
              "    <tr style=\"text-align: right;\">\n",
              "      <th></th>\n",
              "      <th>test accuracy</th>\n",
              "      <th>training accuracy</th>\n",
              "    </tr>\n",
              "  </thead>\n",
              "  <tbody>\n",
              "    <tr>\n",
              "      <th>Linear LR</th>\n",
              "      <td>0.750874</td>\n",
              "      <td>0.764734</td>\n",
              "    </tr>\n",
              "    <tr>\n",
              "      <th>Polynomial LR</th>\n",
              "      <td>0.770113</td>\n",
              "      <td>0.782566</td>\n",
              "    </tr>\n",
              "    <tr>\n",
              "      <th>Random Forest</th>\n",
              "      <td>0.892732</td>\n",
              "      <td>0.976775</td>\n",
              "    </tr>\n",
              "    <tr>\n",
              "      <th>kNN</th>\n",
              "      <td>0.670618</td>\n",
              "      <td>0.705748</td>\n",
              "    </tr>\n",
              "    <tr>\n",
              "      <th>LDA</th>\n",
              "      <td>0.659930</td>\n",
              "      <td>0.671202</td>\n",
              "    </tr>\n",
              "    <tr>\n",
              "      <th>QDA</th>\n",
              "      <td>0.691994</td>\n",
              "      <td>0.702104</td>\n",
              "    </tr>\n",
              "    <tr>\n",
              "      <th>AdaBoost</th>\n",
              "      <td>0.890789</td>\n",
              "      <td>0.890789</td>\n",
              "    </tr>\n",
              "    <tr>\n",
              "      <th>XGBoost</th>\n",
              "      <td>0.893510</td>\n",
              "      <td>0.893510</td>\n",
              "    </tr>\n",
              "  </tbody>\n",
              "</table>\n",
              "</div>"
            ],
            "text/plain": [
              "               test accuracy  training accuracy\n",
              "Linear LR           0.750874           0.764734\n",
              "Polynomial LR       0.770113           0.782566\n",
              "Random Forest       0.892732           0.976775\n",
              "kNN                 0.670618           0.705748\n",
              "LDA                 0.659930           0.671202\n",
              "QDA                 0.691994           0.702104\n",
              "AdaBoost            0.890789           0.890789\n",
              "XGBoost             0.893510           0.893510"
            ]
          },
          "metadata": {
            "tags": []
          }
        }
      ]
    },
    {
      "cell_type": "code",
      "metadata": {
        "id": "QnIzztx0RsRk",
        "outputId": "79e1e7dc-3550-41cd-eaac-718c7af5a1b8",
        "colab": {
          "base_uri": "https://localhost:8080/",
          "height": 614
        }
      },
      "source": [
        "plt.figure(figsize=(14,8))\n",
        "xx = range(len(df_var))\n",
        "index_name=df_var.index\n",
        "plt.bar(xx, df_var['test accuracy'], color=(0.2, 0.4, 0.6, 0.6), alpha=0.5)\n",
        "plt.ylim(0.6,1)\n",
        "plt.title('Model Comparison on Test Set', fontsize=18)\n",
        "plt.ylabel('Test Accuracy (%)', fontsize=16)\n",
        "plt.xticks(xx,index_name,rotation=90,fontsize = 16);\n",
        "sns.despine()"
      ],
      "execution_count": null,
      "outputs": [
        {
          "output_type": "display_data",
          "data": {
            "image/png": "[encoded data removed]",
            "text/plain": [
              "<Figure size 1008x576 with 1 Axes>"
            ]
          },
          "metadata": {
            "tags": [],
            "needs_background": "light"
          }
        }
      ]
    },
    {
      "cell_type": "code",
      "metadata": {
        "id": "wXXNOc1-k1e7"
      },
      "source": [
        "#  export models to files\n",
        "import pickle\n",
        "models = [xgb,adaboost,rf,scaler]\n",
        "model_names = ['xgb','adaboost','rf','scaler']\n",
        "for i in range(len(models)):\n",
        "    pickle.dump(models[i], open('models/'+model_names[i], 'wb'))\n",
        " \n",
        " "
      ],
      "execution_count": null,
      "outputs": []
    },
    {
      "cell_type": "code",
      "metadata": {
        "id": "uO_d7COfwogQ"
      },
      "source": [
        "# import pickle\n",
        "# model_names = ['xgb','adaboost','rf','scaler']\n",
        "# for i in range(4):\n",
        "#     pickle.load(open('models/'+model_names[i], 'rb'))"
      ],
      "execution_count": null,
      "outputs": []
    },
    {
      "cell_type": "markdown",
      "metadata": {
        "id": "gxhNSEGDTneb"
      },
      "source": [
        "#Neural Network"
      ]
    },
    {
      "cell_type": "code",
      "metadata": {
        "id": "j67ZOSKnTmgP"
      },
      "source": [
        "\n",
        "import tensorflow.keras \n",
        "from tensorflow.keras import models\n",
        "from tensorflow.keras import layers\n",
        "\n",
        "\n",
        "from tensorflow.keras.models import Sequential\n",
        "from tensorflow.keras.layers import Dense\n",
        "from tensorflow.keras import regularizers\n",
        "\n",
        "from sklearn.metrics import r2_score as r2\n",
        "\n",
        "from sklearn.utils import shuffle\n",
        "from tensorflow.keras.layers import Dropout\n",
        "from tensorflow.keras.wrappers.scikit_learn import KerasClassifier\n",
        "\n",
        "# import tensorflow.contrib.eager as tfe\n",
        "# from sklearn.grid_search import GridSearchCV\n",
        "from sklearn.datasets import make_classification\n",
        "from sklearn.model_selection import cross_val_score"
      ],
      "execution_count": null,
      "outputs": []
    },
    {
      "cell_type": "code",
      "metadata": {
        "id": "FzQGH8FFUPd7",
        "outputId": "00da6620-1444-4854-96ab-bbf42b7f15fe",
        "colab": {
          "base_uri": "https://localhost:8080/"
        }
      },
      "source": [
        "model_NN = models.Sequential()\n",
        "\n",
        "model_NN.add(layers.Dense(400, input_shape=(X_train_scaled.shape[1],),\n",
        "                activation='relu'))\n",
        "\n",
        "model_NN.add(layers.Dense(100, input_shape=(X_train_scaled.shape[1],),\n",
        "                activation='relu', \n",
        "                kernel_regularizer=regularizers.l2(0.01)))\n",
        "model_NN.add(Dropout(0.5))\n",
        "          \n",
        "\n",
        "\n",
        "model_NN.add(layers.Dense(1,  \n",
        "                activation='sigmoid')) \n",
        "\n",
        "model_NN.summary()"
      ],
      "execution_count": null,
      "outputs": [
        {
          "output_type": "stream",
          "text": [
            "Model: \"sequential_3\"\n",
            "_________________________________________________________________\n",
            "Layer (type)                 Output Shape              Param #   \n",
            "=================================================================\n",
            "dense_9 (Dense)              (None, 400)               5200      \n",
            "_________________________________________________________________\n",
            "dense_10 (Dense)             (None, 100)               40100     \n",
            "_________________________________________________________________\n",
            "dropout_3 (Dropout)          (None, 100)               0         \n",
            "_________________________________________________________________\n",
            "dense_11 (Dense)             (None, 1)                 101       \n",
            "=================================================================\n",
            "Total params: 45,401\n",
            "Trainable params: 45,401\n",
            "Non-trainable params: 0\n",
            "_________________________________________________________________\n"
          ],
          "name": "stdout"
        }
      ]
    },
    {
      "cell_type": "code",
      "metadata": {
        "id": "kUQAIL18Ujvm"
      },
      "source": [
        "tensorflow.keras.optimizers.Adam(lr=0.01, beta_1=0.9, beta_2=0.999, epsilon=None, decay=0.0, amsgrad=False)\n",
        "model_NN.compile(loss='binary_crossentropy', optimizer='Adam', metrics=['accuracy'])"
      ],
      "execution_count": null,
      "outputs": []
    },
    {
      "cell_type": "code",
      "metadata": {
        "id": "8bOEOo1cU0dr"
      },
      "source": [
        "%%capture\n",
        "ANN_history = model_NN.fit(X_train_scaled, Y_train,batch_size=128,epochs=300,validation_split=0.2)"
      ],
      "execution_count": null,
      "outputs": []
    },
    {
      "cell_type": "code",
      "metadata": {
        "id": "rvfdFKTfVVJ8",
        "outputId": "2ea0af33-432f-48a8-d009-010943b25edf",
        "colab": {
          "base_uri": "https://localhost:8080/",
          "height": 281
        }
      },
      "source": [
        "training_loss = ANN_history.history['loss']\n",
        "epoch_count = range(1, len(training_loss) + 1)\n",
        "plt.plot(epoch_count, training_loss, 'r--')\n",
        "plt.legend(['Training Loss'])\n",
        "plt.xlabel('Epoch')\n",
        "plt.ylabel('Loss')\n",
        "plt.show();"
      ],
      "execution_count": null,
      "outputs": [
        {
          "output_type": "display_data",
          "data": {
            "image/png": "[encoded data removed]",
            "text/plain": [
              "<Figure size 432x288 with 1 Axes>"
            ]
          },
          "metadata": {
            "tags": [],
            "needs_background": "light"
          }
        }
      ]
    },
    {
      "cell_type": "code",
      "metadata": {
        "id": "vumQApRnWeUQ",
        "outputId": "fc4f882f-84cb-4a8f-d008-3c44ef586f0b",
        "colab": {
          "base_uri": "https://localhost:8080/"
        }
      },
      "source": [
        "ANN_history.history.keys()"
      ],
      "execution_count": null,
      "outputs": [
        {
          "output_type": "execute_result",
          "data": {
            "text/plain": [
              "dict_keys(['loss', 'accuracy', 'val_loss', 'val_accuracy'])"
            ]
          },
          "metadata": {
            "tags": []
          },
          "execution_count": 113
        }
      ]
    },
    {
      "cell_type": "code",
      "metadata": {
        "id": "QJkx2YfAVWEf",
        "outputId": "348523da-c769-436b-93e3-3325c99d9f55",
        "colab": {
          "base_uri": "https://localhost:8080/",
          "height": 404
        }
      },
      "source": [
        "\n",
        "fig, axs = plt.subplots(figsize=(8, 6))\n",
        "plt.plot(ANN_history.history['accuracy'], '-o', label='train')\n",
        "plt.plot(ANN_history.history['val_accuracy'], '-*', label='val')\n",
        "\n",
        "plt.ylabel(\"Accuracy score\")\n",
        "plt.xlabel(\"Epoch\")\n",
        "plt.title(\"Accuracy score vs. Epochs\")\n",
        "\n",
        "plt.legend()\n",
        "plt.show()"
      ],
      "execution_count": null,
      "outputs": [
        {
          "output_type": "display_data",
          "data": {
            "image/png": "[encoded data removed]",
            "text/plain": [
              "<Figure size 576x432 with 1 Axes>"
            ]
          },
          "metadata": {
            "tags": [],
            "needs_background": "light"
          }
        }
      ]
    },
    {
      "cell_type": "code",
      "metadata": {
        "id": "tUc5ZxdLVaXc",
        "outputId": "45fc6e35-f6c8-49b0-8673-fd79e05bfd50",
        "colab": {
          "base_uri": "https://localhost:8080/"
        }
      },
      "source": [
        "test_loss,test_acc = model_NN.evaluate(X_test_scaled, Y_test, verbose=1)\n",
        "print('Test loss:', test_loss)\n",
        "print('Test ACC:', test_acc)"
      ],
      "execution_count": null,
      "outputs": [
        {
          "output_type": "stream",
          "text": [
            "161/161 [==============================] - 0s 980us/step - loss: 0.3939 - accuracy: 0.8340\n",
            "Test loss: 0.3938627243041992\n",
            "Test ACC: 0.8340458869934082\n"
          ],
          "name": "stdout"
        }
      ]
    }
  ]
}