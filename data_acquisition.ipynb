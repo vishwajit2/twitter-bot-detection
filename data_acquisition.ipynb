{
  "nbformat": 4,
  "nbformat_minor": 0,
  "metadata": {
    "colab": {
      "name": "data_acquisition",
      "provenance": [],
      "collapsed_sections": [],
      "mount_file_id": "1DX10t8oICQCmEjExv1uYrvisJYACqPSv",
      "authorship_tag": "ABX9TyMJkjdqfuHwQ8LwmPXxMSDd"
    },
    "kernelspec": {
      "name": "python3",
      "display_name": "Python 3"
    }
  },
  "cells": [
    {
      "cell_type": "code",
      "metadata": {
        "id": "Z3p2hMt6VKS6"
      },
      "source": [
        "# import os,zipfile\n",
        "# os.chdir('drive/My Drive/twitter-bot-detection')\n",
        "# !pwd"
      ],
      "execution_count": null,
      "outputs": []
    },
    {
      "cell_type": "code",
      "metadata": {
        "id": "mJjJL_8NWppv",
        "outputId": "525ba8e6-5c20-4efb-df9a-c653729bc968",
        "colab": {
          "base_uri": "https://localhost:8080/",
          "height": 35
        }
      },
      "source": [
        "''' Download datasets ,unzip them and store to drive '''\n",
        "# !mkdir datasets\n",
        "# os.chdir('datasets')\n",
        "# !wget https://botometer.osome.iu.edu/bot-repository/datasets/cresci-2017/cresci-2017.csv.zip\n",
        "# !wget http://infolab.tamu.edu/data/social_honeypot_icwsm_2011.zip \n",
        "# !mkdir cresci-2017\n",
        "# !unzip -q cresci-2017.csv.zip -d cresci-2017\n",
        "# !unzip -q social_honeypot_icwsm_2011.zip \n",
        "# !rm cresci-2017.csv.zip\n",
        "# !rm social_honeypot_icwsm_2011.zip\n",
        "# os.chdir('..')"
      ],
      "execution_count": null,
      "outputs": [
        {
          "output_type": "execute_result",
          "data": {
            "application/vnd.google.colaboratory.intrinsic+json": {
              "type": "string"
            },
            "text/plain": [
              "' Download datasets ,unzip them and store to drive '"
            ]
          },
          "metadata": {
            "tags": []
          },
          "execution_count": 58
        }
      ]
    },
    {
      "cell_type": "code",
      "metadata": {
        "id": "4RZaSFBhiOBI"
      },
      "source": [
        "# # unzip files in cresci-2017\n",
        "# dir_name = 'datasets/cresci-2017/datasets_full.csv'\n",
        "# extension = \".zip\"\n",
        "# os.chdir(dir_name) # change directory from working dir to dir with files\n",
        "\n",
        "# for item in os.listdir(): # loop through items in dir\n",
        "#     if item.endswith(extension):\n",
        "#       zip_ref = zipfile.ZipFile(item) # create zipfile object\n",
        "#       zip_ref.extractall() # extract file to dir\n",
        "#       zip_ref.close() # close file\n",
        "#       os.remove(item) # delete zipped file"
      ],
      "execution_count": null,
      "outputs": []
    },
    {
      "cell_type": "code",
      "metadata": {
        "id": "EPiyqVvZhCSP"
      },
      "source": [
        "import sys\n",
        "import os\n",
        "import tweepy\n",
        "import numpy as np\n",
        "import pandas as pd\n",
        "import json\n",
        "from datetime import datetime, timezone\n",
        "import re\n",
        "import time"
      ],
      "execution_count": null,
      "outputs": []
    },
    {
      "cell_type": "code",
      "metadata": {
        "id": "7Auz23N1y4dL",
        "outputId": "15bd831a-2369-46ac-fff9-c5e2f48d6779",
        "colab": {
          "base_uri": "https://localhost:8080/",
          "height": 35
        }
      },
      "source": [
        "os.chdir('drive/My Drive/twitter-bot-detection')\n",
        "os.getcwd()"
      ],
      "execution_count": null,
      "outputs": [
        {
          "output_type": "execute_result",
          "data": {
            "application/vnd.google.colaboratory.intrinsic+json": {
              "type": "string"
            },
            "text/plain": [
              "'/content/drive/My Drive/twitter-bot-detection'"
            ]
          },
          "metadata": {
            "tags": []
          },
          "execution_count": 12
        }
      ]
    },
    {
      "cell_type": "code",
      "metadata": {
        "id": "sJLhFh6Gp3Eh"
      },
      "source": [
        "# cresci-2017 dataset\n",
        "# Genuine users\n",
        "assert(os.getcwd() == '/content/drive/My Drive/twitter-bot-detection' )\n",
        "\n",
        "gu_df = pd.read_csv('./datasets/cresci-2017/datasets_full.csv/genuine_accounts.csv/users.csv', sep = ',')\n",
        "gu_list = gu_df['id'].values.astype(int)\n",
        "\n",
        "# Social spambots\n",
        "ssbots1_df = pd.read_csv('./datasets/cresci-2017/datasets_full.csv/social_spambots_1.csv/users.csv', sep = ',')\n",
        "ssbots1_list = ssbots1_df['id'].values.astype(int)\n",
        "ssbots2_df = pd.read_csv('./datasets/cresci-2017/datasets_full.csv/social_spambots_2.csv/users.csv', sep = ',')\n",
        "ssbots2_list = ssbots2_df['id'].values.astype(int)\n",
        "ssbots3_df = pd.read_csv('./datasets/cresci-2017/datasets_full.csv/social_spambots_3.csv/users.csv', sep = ',')\n",
        "ssbots3_list = ssbots3_df['id'].values.astype(int)\n",
        "\n",
        "# traditional spambots\n",
        "tsbots1_df = pd.read_csv('./datasets/cresci-2017/datasets_full.csv/traditional_spambots_1.csv/users.csv', sep = ',')\n",
        "tsbots1_list = tsbots1_df['id'].values.astype(int)\n",
        "tsbots2_df = pd.read_csv('./datasets/cresci-2017/datasets_full.csv/traditional_spambots_2.csv/users.csv', sep = ',')\n",
        "tsbots2_list = tsbots2_df['id'].values.astype(int)\n",
        "tsbots3_df = pd.read_csv('./datasets/cresci-2017/datasets_full.csv/traditional_spambots_3.csv/users.csv', sep = ',')\n",
        "tsbots3_list = tsbots3_df['id'].values.astype(int)\n",
        "tsbots4_df = pd.read_csv('./datasets/cresci-2017/datasets_full.csv/traditional_spambots_4.csv/users.csv', sep = ',')\n",
        "tsbots4_list = tsbots4_df['id'].values.astype(int)\n",
        "\n",
        "# combine social spambots and traditional spambots\n",
        "ssbots_list = list(ssbots1_list) + list(ssbots2_list) + list(ssbots3_list)\n",
        "tsbots_list = list(tsbots1_list) + list(tsbots2_list) + list(tsbots3_list) + list(tsbots4_list)"
      ],
      "execution_count": null,
      "outputs": []
    },
    {
      "cell_type": "code",
      "metadata": {
        "id": "JKwacwqer2M6"
      },
      "source": [
        "#Social honeypot dataset\n",
        "\n",
        "# Legitimate user info\n",
        "lu_df = pd.read_csv('./datasets/social_honeypot_icwsm_2011/legitimate_users.txt', sep = '\\t', header = None)\n",
        "lu_df.columns = ['UserID', 'CreatedAt', 'CollectedAt', 'NumerOfFollowings', 'NumberOfFollowers', 'NumberOfTweets', 'LengthOfScreenName', 'LengthOfDescriptionInUserProfile']\n",
        "\n",
        "# Content polluters info\n",
        "bots_df = pd.read_csv('./datasets/social_honeypot_icwsm_2011/content_polluters.txt', sep = '\\t', header = None)\n",
        "bots_df.columns = ['UserID', 'CreatedAt', 'CollectedAt', 'NumerOfFollowings', 'NumberOfFollowers', 'NumberOfTweets', 'LengthOfScreenName', 'LengthOfDescriptionInUserProfile']\n",
        "\n",
        "# Construct user id lists\n",
        "lu_list = lu_df['UserID'].values.astype(int)\n",
        "bot_list = bots_df['UserID'].values.astype(int)"
      ],
      "execution_count": null,
      "outputs": []
    },
    {
      "cell_type": "code",
      "metadata": {
        "id": "NRMQ8qJN7bK8"
      },
      "source": [
        "# scrape data from tweepy api\n",
        "auth = tweepy.OAuthHandler('NorVL10UJjR7tgb9ORBHuFohm', '77RjNc1BxLfJXp0SV6LhUweLoP2mxID96KHlCN7n7lC2GYxGuv')\n",
        "\n",
        "auth.set_access_token('764321884041310208-UwgcHEi3szzvkWKJXzaxT3c8qUC5Oo7', 'IRyiEyKvpN4ZfIVwAlTfpOqk2f1CFfEFSEjiayV5BZ2na')\n",
        "\n",
        "api = tweepy.API(auth,wait_on_rate_limit=True, wait_on_rate_limit_notify=True)"
      ],
      "execution_count": null,
      "outputs": []
    },
    {
      "cell_type": "code",
      "metadata": {
        "id": "uSnDNgUXqHhV"
      },
      "source": [
        "\n",
        "# Given a name list and number of tweets needed to extract for each account\n",
        "# Return a dictionary of dataframes\n",
        "# Each dataframe contains info of one user\n",
        "def API_scrap(name_list, count_num):\n",
        "    fail_list = []\n",
        "    user_dfs = {}\n",
        "    count = 0\n",
        "    for name in name_list:\n",
        "        if count%300 == 0:\n",
        "            print(count)\n",
        "        count += 1\n",
        "        try:\n",
        "            data = api.user_timeline(name, count = count_num, tweet_mode = 'extended')\n",
        "            user_dfs[name] = pd.DataFrame()\n",
        "            for i in range(len(data)):\n",
        "                jdata = pd.json_normalize(data[i]._json)\n",
        "                user_dfs[name] = user_dfs[name].append(jdata, ignore_index=True)\n",
        "\n",
        "        except :\n",
        "            fail_list.append(name)\n",
        "            continue\n",
        "    \n",
        "    return user_dfs, fail_list\n",
        "\n"
      ],
      "execution_count": null,
      "outputs": []
    },
    {
      "cell_type": "code",
      "metadata": {
        "id": "FQyXv0JF-jnf",
        "outputId": "4612c06b-4ab5-400a-fc7f-2bcf1f984540",
        "colab": {
          "base_uri": "https://localhost:8080/"
        }
      },
      "source": [
        "# sh_user_dfs, sh_user_fail_lst = API_scrap(lu_list, 10)\n",
        "# sh_bot_dfs, sh_bot_fail_lst = API_scrap(bot_list[22224:], 10)\n",
        "# gu_dfs, fail_list = API_scrap(gu_list, 10)\n",
        "# ssbots_dfs, ssbots_fail_lst = API_scrap(ssbots_list, 10)\n",
        "# tsbots_dfs, tsbots_fail_lst = API_scrap(tsbots_list, 10)"
      ],
      "execution_count": null,
      "outputs": [
        {
          "output_type": "stream",
          "text": [
            "0\n",
            "300\n",
            "600\n"
          ],
          "name": "stdout"
        },
        {
          "output_type": "stream",
          "text": [
            "Rate limit reached. Sleeping for: 682\n"
          ],
          "name": "stderr"
        },
        {
          "output_type": "stream",
          "text": [
            "900\n",
            "1200\n",
            "1500\n"
          ],
          "name": "stdout"
        },
        {
          "output_type": "stream",
          "text": [
            "Rate limit reached. Sleeping for: 594\n"
          ],
          "name": "stderr"
        },
        {
          "output_type": "stream",
          "text": [
            "1800\n",
            "2100\n",
            "2400\n"
          ],
          "name": "stdout"
        },
        {
          "output_type": "stream",
          "text": [
            "Rate limit reached. Sleeping for: 583\n"
          ],
          "name": "stderr"
        },
        {
          "output_type": "stream",
          "text": [
            "2700\n",
            "3000\n",
            "3300\n"
          ],
          "name": "stdout"
        },
        {
          "output_type": "stream",
          "text": [
            "Rate limit reached. Sleeping for: 588\n"
          ],
          "name": "stderr"
        },
        {
          "output_type": "stream",
          "text": [
            "3600\n",
            "3900\n",
            "4200\n"
          ],
          "name": "stdout"
        },
        {
          "output_type": "stream",
          "text": [
            "Rate limit reached. Sleeping for: 586\n"
          ],
          "name": "stderr"
        },
        {
          "output_type": "stream",
          "text": [
            "4500\n",
            "4800\n"
          ],
          "name": "stdout"
        }
      ]
    },
    {
      "cell_type": "code",
      "metadata": {
        "id": "pv81QLXU34Ys"
      },
      "source": [
        "def user_id(df):\n",
        "    try:\n",
        "        return df['user.id_str'][0]\n",
        "    except:\n",
        "        return None\n",
        "    \n",
        "# Screen name length\n",
        "def sname_len(df):\n",
        "    try:\n",
        "        return len(df['user.screen_name'][0])\n",
        "    except:\n",
        "        return None\n",
        "\n",
        "# Number of digits in screen name\n",
        "def sname_digits(df):\n",
        "    try:\n",
        "        return sum(c.isdigit() for c in df['user.screen_name'][0])\n",
        "    except:\n",
        "        return None\n",
        "    \n",
        "# User name length\n",
        "def name_len(df):\n",
        "    try: \n",
        "        return len(df['user.name'][0])\n",
        "    except:\n",
        "        return None\n",
        "\n",
        "# Default profile\n",
        "def def_profile(df):\n",
        "    try:\n",
        "        return int(df['user.default_profile'][0]*1)\n",
        "    except:\n",
        "        return None\n",
        "\n",
        "# Default picture\n",
        "def def_picture(df):\n",
        "    try:\n",
        "        return int(df['user.default_profile_image'][0]*1)\n",
        "    except:\n",
        "        return None\n",
        "\n",
        "# Account age (in days)\n",
        "def acc_age(df):\n",
        "    try:\n",
        "        d0 = datetime.strptime(df['user.created_at'][0],'%a %b %d %H:%M:%S %z %Y')\n",
        "        d1 = datetime.now(timezone.utc)\n",
        "        return (d1-d0).days\n",
        "    except:\n",
        "        return None\n",
        "\n",
        "# Number of unique profile descriptions\n",
        "def num_descrip(df):\n",
        "    try:\n",
        "        string = df['user.description'][0]\n",
        "        return len(re.sub(r'\\s', '', string).split(','))\n",
        "    except:\n",
        "        return None\n",
        "\n",
        "# Number of friends\n",
        "def friends(df):\n",
        "    try:\n",
        "        return df['user.friends_count'][0]\n",
        "    except: \n",
        "        return None\n",
        "\n",
        "# Number of followers\n",
        "def followers(df):\n",
        "    try:\n",
        "        return df['user.followers_count'][0]\n",
        "    except: \n",
        "        return None\n",
        "\n",
        "# Number of favorites\n",
        "def favorites(df):\n",
        "    try:\n",
        "        return df['user.favourites_count'][0]\n",
        "    except:\n",
        "        return None\n",
        "\n",
        "# Number of tweets (including retweets, per hour and total)\n",
        "def num_tweets(df):\n",
        "    try:\n",
        "        total = df['user.statuses_count'][0]\n",
        "        per_hour = total/(acc_age(df)*24)\n",
        "        return total, per_hour\n",
        "    except:\n",
        "        return None, None\n",
        "\n",
        "def tweets_time(df):\n",
        "    try:\n",
        "        time_lst = []\n",
        "        for i in range(len(df)-1):\n",
        "            if df['retweeted'][i] == False:\n",
        "                time_lst.append(df['created_at'][i])\n",
        "\n",
        "        interval_lst = []\n",
        "        for j in range(len(time_lst)-1):\n",
        "            d1 = datetime.strptime(df['created_at'][j],'%a %b %d %H:%M:%S %z %Y')\n",
        "            d2 = datetime.strptime(df['created_at'][j+1],'%a %b %d %H:%M:%S %z %Y')\n",
        "            interval_lst.append((d2-d1).seconds)\n",
        "\n",
        "        return np.array(interval_lst)\n",
        "    except:\n",
        "        return None"
      ],
      "execution_count": null,
      "outputs": []
    },
    {
      "cell_type": "code",
      "metadata": {
        "id": "Q7YYipW-6Gxi"
      },
      "source": [
        "# Given a dictionary of dataframes with one dataframe for each user\n",
        "# this function processes the data and extracted all the user-related features\n",
        "# and saves it to a dataframe with one row for each user\n",
        "\n",
        "def create_df(user_dfs, filename):\n",
        "    columns_lst = ['User ID', 'Screen name length', 'Number of digits in screen name', 'User name length', 'Default profile (binary)','Default picture (binary)','Account age (days)', 'Number of unique profile descriptions','Number of friends','Number of followers','Number of favorites','Number of tweets per hour', 'Number of tweets total','timing_tweet']\n",
        "\n",
        "    # Create user dataframe\n",
        "    user_full_df = pd.DataFrame(columns = columns_lst)\n",
        "    count = 0\n",
        "    for name in user_dfs.keys():\n",
        "        df = user_dfs[name]\n",
        "        tweets_total, tweets_per_hour = num_tweets(df)\n",
        "        data = [user_id(df), sname_len(df), sname_digits(df), name_len(df), def_profile(df), def_picture(df), acc_age(df), num_descrip(df), friends(df), followers(df), favorites(df), tweets_per_hour, tweets_total, np.mean(tweets_time(df))]\n",
        "        user_full_df.loc[count] = data\n",
        "        count += 1\n",
        "\n",
        "    user_full_df = user_full_df.dropna()\n",
        "    # user_full_df.to_csv(filename+'.csv', encoding='utf-8', index=False)\n",
        "    return user_full_df\n"
      ],
      "execution_count": null,
      "outputs": []
    },
    {
      "cell_type": "code",
      "metadata": {
        "id": "RXsVM7SF8bUA"
      },
      "source": [
        "gu_full_df = create_df(gu_dfs, 'gu_dataframe')\n",
        "ssbots_full_df = create_df(ssbots_dfs, 'ssbots_dataframe')\n",
        "tsbots_full_df = create_df(tsbots_dfs, 'tsbots_dataframe')\n",
        "sh_user_full_df = create_df(sh_user_dfs, 'sh_user_dataframe')\n",
        "sh_bots_full_df = create_df(sh_bot_dfs, 'sh_bot_dataframe')"
      ],
      "execution_count": null,
      "outputs": []
    },
    {
      "cell_type": "code",
      "metadata": {
        "id": "Jph5iqxivSrt"
      },
      "source": [
        "c = pd.read_csv('data/failed/sh_bot_fail_lst')\n",
        "clist = c['0'].values.astype(int)\n",
        "clist = clist[2500:7500]\n",
        "a,b = API_scrap(clist, 10)\n",
        "t = create_df(a, 'a')\n",
        "comb = pd.concat([t,bot_sh])\n",
        "comb.to_csv('data/sh_bot_dataframe.csv', encoding='utf-8', index=False)\n",
        "# failed list checked status :\n",
        "#  tsbots - incomplete\n",
        "#  sh bots - complete till 7500\n",
        "#  sh user - complete till 15000"
      ],
      "execution_count": null,
      "outputs": []
    },
    {
      "cell_type": "code",
      "metadata": {
        "id": "TQYVpvyiOjK1"
      },
      "source": [
        ""
      ],
      "execution_count": null,
      "outputs": []
    },
    {
      "cell_type": "code",
      "metadata": {
        "id": "bageF7AVhTot"
      },
      "source": [
        "#combine bots and users\n",
        "bot_sh = pd.read_csv('data/sh_bot_dataframe.csv')\n",
        "bot_ss = pd.read_csv('data/ssbots_dataframe.csv')\n",
        "bot_ts = pd.read_csv('data/tsbots_dataframe.csv')\n",
        "final_bot = pd.concat([bot_sh,bot_ss,bot_ts])\n",
        "user_sh = pd.read_csv('data/sh_user_dataframe.csv')\n",
        "user_cresai = pd.read_csv('data/gu_dataframe.csv')\n",
        "final_user = pd.concat([user_sh,user_cresai])"
      ],
      "execution_count": null,
      "outputs": []
    },
    {
      "cell_type": "code",
      "metadata": {
        "id": "C1Cy0FfrjA7E",
        "outputId": "a4a16c06-481a-458e-a979-782ed31b36ec",
        "colab": {
          "base_uri": "https://localhost:8080/"
        }
      },
      "source": [
        "for i in [bot_sh,bot_ss,bot_ts,final_bot]:\n",
        "    print(i.shape)\n",
        "print()\n",
        "for i in [user_sh,user_cresai,final_user]:\n",
        "    print(i.shape) "
      ],
      "execution_count": null,
      "outputs": [
        {
          "output_type": "stream",
          "text": [
            "(7173, 14)\n",
            "(4135, 14)\n",
            "(383, 14)\n",
            "(11691, 14)\n",
            "\n",
            "(11649, 14)\n",
            "(2387, 14)\n",
            "(14036, 14)\n"
          ],
          "name": "stdout"
        }
      ]
    },
    {
      "cell_type": "code",
      "metadata": {
        "id": "7ixuCyj0nluP",
        "outputId": "da9f2449-e76d-4cf6-aed6-17d7b5686180",
        "colab": {
          "base_uri": "https://localhost:8080/",
          "height": 308
        }
      },
      "source": [
        "final_user.head()"
      ],
      "execution_count": null,
      "outputs": [
        {
          "output_type": "execute_result",
          "data": {
            "text/html": [
              "<div>\n",
              "<style scoped>\n",
              "    .dataframe tbody tr th:only-of-type {\n",
              "        vertical-align: middle;\n",
              "    }\n",
              "\n",
              "    .dataframe tbody tr th {\n",
              "        vertical-align: top;\n",
              "    }\n",
              "\n",
              "    .dataframe thead th {\n",
              "        text-align: right;\n",
              "    }\n",
              "</style>\n",
              "<table border=\"1\" class=\"dataframe\">\n",
              "  <thead>\n",
              "    <tr style=\"text-align: right;\">\n",
              "      <th></th>\n",
              "      <th>User ID</th>\n",
              "      <th>Screen name length</th>\n",
              "      <th>Number of digits in screen name</th>\n",
              "      <th>User name length</th>\n",
              "      <th>Default profile (binary)</th>\n",
              "      <th>Default picture (binary)</th>\n",
              "      <th>Account age (days)</th>\n",
              "      <th>Number of unique profile descriptions</th>\n",
              "      <th>Number of friends</th>\n",
              "      <th>Number of followers</th>\n",
              "      <th>Number of favorites</th>\n",
              "      <th>Number of tweets per hour</th>\n",
              "      <th>Number of tweets total</th>\n",
              "      <th>timing_tweet</th>\n",
              "    </tr>\n",
              "  </thead>\n",
              "  <tbody>\n",
              "    <tr>\n",
              "      <th>0</th>\n",
              "      <td>54149901</td>\n",
              "      <td>13</td>\n",
              "      <td>0</td>\n",
              "      <td>18</td>\n",
              "      <td>1</td>\n",
              "      <td>0</td>\n",
              "      <td>4145</td>\n",
              "      <td>1</td>\n",
              "      <td>1</td>\n",
              "      <td>157</td>\n",
              "      <td>0</td>\n",
              "      <td>0.226186</td>\n",
              "      <td>22501</td>\n",
              "      <td>48255.000</td>\n",
              "    </tr>\n",
              "    <tr>\n",
              "      <th>1</th>\n",
              "      <td>54175862</td>\n",
              "      <td>12</td>\n",
              "      <td>0</td>\n",
              "      <td>12</td>\n",
              "      <td>0</td>\n",
              "      <td>0</td>\n",
              "      <td>4145</td>\n",
              "      <td>1</td>\n",
              "      <td>1582</td>\n",
              "      <td>1028</td>\n",
              "      <td>196</td>\n",
              "      <td>0.130941</td>\n",
              "      <td>13026</td>\n",
              "      <td>45240.375</td>\n",
              "    </tr>\n",
              "    <tr>\n",
              "      <th>2</th>\n",
              "      <td>54181293</td>\n",
              "      <td>9</td>\n",
              "      <td>0</td>\n",
              "      <td>9</td>\n",
              "      <td>0</td>\n",
              "      <td>0</td>\n",
              "      <td>4145</td>\n",
              "      <td>1</td>\n",
              "      <td>791</td>\n",
              "      <td>270</td>\n",
              "      <td>3</td>\n",
              "      <td>0.030338</td>\n",
              "      <td>3018</td>\n",
              "      <td>54783.250</td>\n",
              "    </tr>\n",
              "    <tr>\n",
              "      <th>3</th>\n",
              "      <td>54190543</td>\n",
              "      <td>15</td>\n",
              "      <td>1</td>\n",
              "      <td>22</td>\n",
              "      <td>0</td>\n",
              "      <td>0</td>\n",
              "      <td>4145</td>\n",
              "      <td>1</td>\n",
              "      <td>1565</td>\n",
              "      <td>3405</td>\n",
              "      <td>7328</td>\n",
              "      <td>0.133484</td>\n",
              "      <td>13279</td>\n",
              "      <td>71398.625</td>\n",
              "    </tr>\n",
              "    <tr>\n",
              "      <th>4</th>\n",
              "      <td>54193711</td>\n",
              "      <td>6</td>\n",
              "      <td>0</td>\n",
              "      <td>1</td>\n",
              "      <td>0</td>\n",
              "      <td>0</td>\n",
              "      <td>4145</td>\n",
              "      <td>1</td>\n",
              "      <td>1380</td>\n",
              "      <td>738</td>\n",
              "      <td>209</td>\n",
              "      <td>0.045245</td>\n",
              "      <td>4501</td>\n",
              "      <td>32269.500</td>\n",
              "    </tr>\n",
              "  </tbody>\n",
              "</table>\n",
              "</div>"
            ],
            "text/plain": [
              "    User ID  Screen name length  ...  Number of tweets total  timing_tweet\n",
              "0  54149901                  13  ...                   22501     48255.000\n",
              "1  54175862                  12  ...                   13026     45240.375\n",
              "2  54181293                   9  ...                    3018     54783.250\n",
              "3  54190543                  15  ...                   13279     71398.625\n",
              "4  54193711                   6  ...                    4501     32269.500\n",
              "\n",
              "[5 rows x 14 columns]"
            ]
          },
          "metadata": {
            "tags": []
          },
          "execution_count": 37
        }
      ]
    },
    {
      "cell_type": "code",
      "metadata": {
        "id": "pGmYQVu8ny3v"
      },
      "source": [
        "# export to csv\n",
        "final_user.to_csv('data/final_users.csv', encoding='utf-8', index=False)\n",
        "final_bot.to_csv('data/final_bots.csv', encoding='utf-8', index=False)"
      ],
      "execution_count": null,
      "outputs": []
    }
  ]
}